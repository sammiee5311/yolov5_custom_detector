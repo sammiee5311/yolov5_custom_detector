{
  "nbformat": 4,
  "nbformat_minor": 0,
  "metadata": {
    "colab": {
      "name": "yolov5_custom_detector.ipynb",
      "provenance": []
    },
    "kernelspec": {
      "name": "python3",
      "display_name": "Python 3"
    },
    "accelerator": "GPU"
  },
  "cells": [
    {
      "cell_type": "code",
      "metadata": {
        "id": "3kqRLjgvichf",
        "colab_type": "code",
        "colab": {}
      },
      "source": [
        "# clone the yolov5 files\n",
        "%cd /content\n",
        "!git clone https://github.com/ultralytics/yolov5.git"
      ],
      "execution_count": null,
      "outputs": []
    },
    {
      "cell_type": "code",
      "metadata": {
        "id": "4uOVPCgsi33G",
        "colab_type": "code",
        "colab": {}
      },
      "source": [
        "# install all the requirements libraries from requirements.txt\n",
        "%cd yolov5\n",
        "!pip install -r requirements.txt"
      ],
      "execution_count": null,
      "outputs": []
    },
    {
      "cell_type": "code",
      "metadata": {
        "id": "Ei6JaHvZf7XA",
        "colab_type": "code",
        "colab": {}
      },
      "source": [
        "# download the datasets from https://public.roboflow.ai/object-detection\n",
        "%cd /content\n",
        "!curl -L \"https://public.roboflow.ai/ds/LOWRdtTuCX?key=HJ9rI8ka56\" > roboflow.zip; unzip roboflow.zip; rm roboflow.zip"
      ],
      "execution_count": null,
      "outputs": []
    },
    {
      "cell_type": "code",
      "metadata": {
        "id": "PmUa1P7hhGVm",
        "colab_type": "code",
        "colab": {}
      },
      "source": [
        "# make a folder and move all the datasets to new folder\n",
        "import shutil\n",
        "\n",
        "m1 = '/content/test'\n",
        "m2 = '/content/train'\n",
        "m3 = '/content/data.yaml'\n",
        "directory = '/content/datasets'\n",
        "\n",
        "datas = [m1,m2,m3]\n",
        "\n",
        "for data in datas:\n",
        "  shutil.move(data, directory)"
      ],
      "execution_count": null,
      "outputs": []
    },
    {
      "cell_type": "code",
      "metadata": {
        "id": "fWjohX--k5_a",
        "colab_type": "code",
        "colab": {}
      },
      "source": [
        "# save the all the names from train/test images\n",
        "from glob import glob\n",
        "train_img = glob('/content/datasets/train/images/*.jpg')\n",
        "test_img = glob('/content/datasets/test/images/*.jpg')"
      ],
      "execution_count": null,
      "outputs": []
    },
    {
      "cell_type": "code",
      "metadata": {
        "id": "jm5NslOIiM2-",
        "colab_type": "code",
        "colab": {}
      },
      "source": [
        "# write all the names of train/test datasets and save it\n",
        "with open('/content/datasets/train.text', 'w') as file:\n",
        "  file.write('\\n'.join(train_img)+'\\n')\n",
        "with open('/content/datasets/test.text', 'w') as file:\n",
        "  file.write('\\n'.join(test_img)+'\\n')"
      ],
      "execution_count": null,
      "outputs": []
    },
    {
      "cell_type": "code",
      "metadata": {
        "id": "brRgGVnPmjKC",
        "colab_type": "code",
        "colab": {}
      },
      "source": [
        "# change the path for train/test in data.yaml\n",
        "import yaml\n",
        "\n",
        "with open('/content/datasets/data.yaml', 'r') as file:\n",
        "  data = yaml.load(file)\n",
        "\n",
        "data['train'] = '/content/datasets/train.text'\n",
        "data['val'] = '/content/datasets/test.text'\n",
        " \n",
        "with open('/content/datasets/data.yaml', 'w') as file:\n",
        "  yaml.dump(data, file)\n",
        "\n",
        "print(data)\n"
      ],
      "execution_count": null,
      "outputs": []
    },
    {
      "cell_type": "code",
      "metadata": {
        "id": "xZEk9YoWn88n",
        "colab_type": "code",
        "colab": {}
      },
      "source": [
        "# train the dataset\n",
        "%cd /content/yolov5\n",
        "!python train.py --img 416 --batch 16 --epochs 50 --data /content/datasets/data.yaml --cfg ./models/yolov5s.yaml --weights yolov5s.pt --name helmet_yolov5s"
      ],
      "execution_count": null,
      "outputs": []
    },
    {
      "cell_type": "code",
      "metadata": {
        "id": "rOl7BhKdCVcJ",
        "colab_type": "code",
        "colab": {}
      },
      "source": [
        "%load_ext tensorboard\n",
        "%tensorboard --logdir /content/yolov5/runs/"
      ],
      "execution_count": null,
      "outputs": []
    },
    {
      "cell_type": "code",
      "metadata": {
        "id": "GdoCamBbNYYE",
        "colab_type": "code",
        "colab": {}
      },
      "source": [
        "test = test_img[0]"
      ],
      "execution_count": null,
      "outputs": []
    },
    {
      "cell_type": "code",
      "metadata": {
        "id": "yi5wxg_kNB5E",
        "colab_type": "code",
        "colab": {}
      },
      "source": [
        "%cd /content/yolov5\n",
        "!python detect.py --weights /content/yolov5/runs/exp0_helmet_yolov5s/weights/best_helmet_yolov5s.pt --img 416 --conf 0.5 --source \"{test}\""
      ],
      "execution_count": null,
      "outputs": []
    }
  ]
}